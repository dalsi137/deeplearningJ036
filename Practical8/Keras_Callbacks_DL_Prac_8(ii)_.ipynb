{
  "nbformat": 4,
  "nbformat_minor": 0,
  "metadata": {
    "colab": {
      "name": "Keras Callbacks DL Prac 8(ii)_.ipynb",
      "provenance": [],
      "collapsed_sections": [],
      "include_colab_link": true
    },
    "kernelspec": {
      "name": "python3",
      "display_name": "Python 3"
    },
    "accelerator": "GPU"
  },
  "cells": [
    {
      "cell_type": "markdown",
      "metadata": {
        "id": "view-in-github",
        "colab_type": "text"
      },
      "source": [
        "<a href=\"https://colab.research.google.com/github/dalsi137/deeplearningJ036/blob/master/Practical8/Keras_Callbacks_DL_Prac_8(ii)_.ipynb\" target=\"_parent\"><img src=\"https://colab.research.google.com/assets/colab-badge.svg\" alt=\"Open In Colab\"/></a>"
      ]
    },
    {
      "cell_type": "markdown",
      "metadata": {
        "id": "-1DzPAqft6mM",
        "colab_type": "text"
      },
      "source": [
        "#Callbacks\n",
        "\n",
        "Deep learning models can take hours, days or even weeks to train.\n",
        "\n",
        "If the run is stopped unexpectedly, you can lose a lot of work.\n",
        "\n",
        "In this post you will discover how you can check-point your deep learning models during training in Python using the Keras library."
      ]
    },
    {
      "cell_type": "code",
      "metadata": {
        "id": "9Qi36pHUtjWZ",
        "colab_type": "code",
        "colab": {
          "base_uri": "https://localhost:8080/",
          "height": 1000
        },
        "outputId": "e4f182d7-9c72-4f38-ce40-a33591433144"
      },
      "source": [
        "import keras\n",
        "from keras import models\n",
        "from keras.layers import Dense, Dropout\n",
        "from keras.utils import to_categorical\n",
        "from keras.datasets import mnist\n",
        "from keras.utils.vis_utils import model_to_dot\n",
        "from IPython.display import SVG\n",
        "from keras.callbacks import ModelCheckpoint\n",
        "\n",
        "NUM_ROWS = 28\n",
        "NUM_COLS = 28\n",
        "NUM_CLASSES = 10\n",
        "BATCH_SIZE = 128\n",
        "EPOCHS = 10\n",
        "\n",
        "# Load data\n",
        "(X_train, y_train), (X_test, y_test) = mnist.load_data()\n",
        "\n",
        "# Reshape data\n",
        "X_train = X_train.reshape((X_train.shape[0], NUM_ROWS * NUM_COLS))\n",
        "X_train = X_train.astype('float32') / 255\n",
        "X_test = X_test.reshape((X_test.shape[0], NUM_ROWS * NUM_COLS))\n",
        "X_test = X_test.astype('float32') / 255\n",
        "\n",
        "# Categorically encode labels\n",
        "y_train = to_categorical(y_train, NUM_CLASSES)\n",
        "y_test = to_categorical(y_test, NUM_CLASSES)\n",
        "\n",
        "\n",
        "# Build neural network\n",
        "model = models.Sequential()\n",
        "model.add(Dense(512, activation='elu', input_shape=(NUM_ROWS * NUM_COLS,)))\n",
        "model.add(Dense(256, activation='elu'))\n",
        "model.add(Dense(10, activation='softmax'))\n",
        "\n",
        "# Compile model\n",
        "model.compile(optimizer='rmsprop',\n",
        "              loss='categorical_crossentropy',\n",
        "              metrics=['accuracy'])\n",
        "\n",
        "\n",
        "\n",
        "# checkpoint\n",
        "filepath=\"weights-improvement-{epoch:02d}-{val_acc:.2f}.hdf5\"\n",
        "checkpoint = ModelCheckpoint(filepath, monitor='val_acc', verbose=1, save_best_only=True, mode='max')\n",
        "callbacks_list = [checkpoint]\n",
        "\n",
        "\n",
        "# Train model\n",
        "model.fit(X_train, y_train,\n",
        "          batch_size=BATCH_SIZE,\n",
        "          epochs=EPOCHS,\n",
        "          verbose=1,\n",
        "          validation_data=(X_test, y_test), callbacks=callbacks_list)\n",
        "\n",
        "\n"
      ],
      "execution_count": 1,
      "outputs": [
        {
          "output_type": "stream",
          "text": [
            "Using TensorFlow backend.\n"
          ],
          "name": "stderr"
        },
        {
          "output_type": "display_data",
          "data": {
            "text/html": [
              "<p style=\"color: red;\">\n",
              "The default version of TensorFlow in Colab will soon switch to TensorFlow 2.x.<br>\n",
              "We recommend you <a href=\"https://www.tensorflow.org/guide/migrate\" target=\"_blank\">upgrade</a> now \n",
              "or ensure your notebook will continue to use TensorFlow 1.x via the <code>%tensorflow_version 1.x</code> magic:\n",
              "<a href=\"https://colab.research.google.com/notebooks/tensorflow_version.ipynb\" target=\"_blank\">more info</a>.</p>\n"
            ],
            "text/plain": [
              "<IPython.core.display.HTML object>"
            ]
          },
          "metadata": {
            "tags": []
          }
        },
        {
          "output_type": "stream",
          "text": [
            "Downloading data from https://s3.amazonaws.com/img-datasets/mnist.npz\n",
            "11493376/11490434 [==============================] - 1s 0us/step\n",
            "WARNING:tensorflow:From /usr/local/lib/python3.6/dist-packages/keras/backend/tensorflow_backend.py:66: The name tf.get_default_graph is deprecated. Please use tf.compat.v1.get_default_graph instead.\n",
            "\n",
            "WARNING:tensorflow:From /usr/local/lib/python3.6/dist-packages/keras/backend/tensorflow_backend.py:541: The name tf.placeholder is deprecated. Please use tf.compat.v1.placeholder instead.\n",
            "\n",
            "WARNING:tensorflow:From /usr/local/lib/python3.6/dist-packages/keras/backend/tensorflow_backend.py:4432: The name tf.random_uniform is deprecated. Please use tf.random.uniform instead.\n",
            "\n",
            "WARNING:tensorflow:From /usr/local/lib/python3.6/dist-packages/keras/optimizers.py:793: The name tf.train.Optimizer is deprecated. Please use tf.compat.v1.train.Optimizer instead.\n",
            "\n",
            "WARNING:tensorflow:From /usr/local/lib/python3.6/dist-packages/keras/backend/tensorflow_backend.py:3576: The name tf.log is deprecated. Please use tf.math.log instead.\n",
            "\n",
            "WARNING:tensorflow:From /usr/local/lib/python3.6/dist-packages/tensorflow_core/python/ops/math_grad.py:1424: where (from tensorflow.python.ops.array_ops) is deprecated and will be removed in a future version.\n",
            "Instructions for updating:\n",
            "Use tf.where in 2.0, which has the same broadcast rule as np.where\n",
            "WARNING:tensorflow:From /usr/local/lib/python3.6/dist-packages/keras/backend/tensorflow_backend.py:1033: The name tf.assign_add is deprecated. Please use tf.compat.v1.assign_add instead.\n",
            "\n",
            "WARNING:tensorflow:From /usr/local/lib/python3.6/dist-packages/keras/backend/tensorflow_backend.py:1020: The name tf.assign is deprecated. Please use tf.compat.v1.assign instead.\n",
            "\n",
            "WARNING:tensorflow:From /usr/local/lib/python3.6/dist-packages/keras/backend/tensorflow_backend.py:3005: The name tf.Session is deprecated. Please use tf.compat.v1.Session instead.\n",
            "\n",
            "Train on 60000 samples, validate on 10000 samples\n",
            "Epoch 1/10\n",
            "WARNING:tensorflow:From /usr/local/lib/python3.6/dist-packages/keras/backend/tensorflow_backend.py:190: The name tf.get_default_session is deprecated. Please use tf.compat.v1.get_default_session instead.\n",
            "\n",
            "WARNING:tensorflow:From /usr/local/lib/python3.6/dist-packages/keras/backend/tensorflow_backend.py:197: The name tf.ConfigProto is deprecated. Please use tf.compat.v1.ConfigProto instead.\n",
            "\n",
            "WARNING:tensorflow:From /usr/local/lib/python3.6/dist-packages/keras/backend/tensorflow_backend.py:207: The name tf.global_variables is deprecated. Please use tf.compat.v1.global_variables instead.\n",
            "\n",
            "WARNING:tensorflow:From /usr/local/lib/python3.6/dist-packages/keras/backend/tensorflow_backend.py:216: The name tf.is_variable_initialized is deprecated. Please use tf.compat.v1.is_variable_initialized instead.\n",
            "\n",
            "WARNING:tensorflow:From /usr/local/lib/python3.6/dist-packages/keras/backend/tensorflow_backend.py:223: The name tf.variables_initializer is deprecated. Please use tf.compat.v1.variables_initializer instead.\n",
            "\n",
            "60000/60000 [==============================] - 11s 181us/step - loss: 0.2954 - acc: 0.9105 - val_loss: 0.2132 - val_acc: 0.9287\n",
            "\n",
            "Epoch 00001: val_acc improved from -inf to 0.92870, saving model to weights-improvement-01-0.93.hdf5\n",
            "Epoch 2/10\n",
            "60000/60000 [==============================] - 1s 25us/step - loss: 0.1248 - acc: 0.9618 - val_loss: 0.1044 - val_acc: 0.9648\n",
            "\n",
            "Epoch 00002: val_acc improved from 0.92870 to 0.96480, saving model to weights-improvement-02-0.96.hdf5\n",
            "Epoch 3/10\n",
            "60000/60000 [==============================] - 2s 28us/step - loss: 0.0841 - acc: 0.9740 - val_loss: 0.0874 - val_acc: 0.9719\n",
            "\n",
            "Epoch 00003: val_acc improved from 0.96480 to 0.97190, saving model to weights-improvement-03-0.97.hdf5\n",
            "Epoch 4/10\n",
            "60000/60000 [==============================] - 2s 26us/step - loss: 0.0641 - acc: 0.9794 - val_loss: 0.0926 - val_acc: 0.9719\n",
            "\n",
            "Epoch 00004: val_acc did not improve from 0.97190\n",
            "Epoch 5/10\n",
            "60000/60000 [==============================] - 2s 26us/step - loss: 0.0511 - acc: 0.9839 - val_loss: 0.0879 - val_acc: 0.9747\n",
            "\n",
            "Epoch 00005: val_acc improved from 0.97190 to 0.97470, saving model to weights-improvement-05-0.97.hdf5\n",
            "Epoch 6/10\n",
            "60000/60000 [==============================] - 1s 25us/step - loss: 0.0407 - acc: 0.9869 - val_loss: 0.0829 - val_acc: 0.9770\n",
            "\n",
            "Epoch 00006: val_acc improved from 0.97470 to 0.97700, saving model to weights-improvement-06-0.98.hdf5\n",
            "Epoch 7/10\n",
            "60000/60000 [==============================] - 2s 26us/step - loss: 0.0336 - acc: 0.9891 - val_loss: 0.0766 - val_acc: 0.9783\n",
            "\n",
            "Epoch 00007: val_acc improved from 0.97700 to 0.97830, saving model to weights-improvement-07-0.98.hdf5\n",
            "Epoch 8/10\n",
            "60000/60000 [==============================] - 2s 25us/step - loss: 0.0287 - acc: 0.9899 - val_loss: 0.0736 - val_acc: 0.9814\n",
            "\n",
            "Epoch 00008: val_acc improved from 0.97830 to 0.98140, saving model to weights-improvement-08-0.98.hdf5\n",
            "Epoch 9/10\n",
            "60000/60000 [==============================] - 2s 26us/step - loss: 0.0230 - acc: 0.9925 - val_loss: 0.0884 - val_acc: 0.9804\n",
            "\n",
            "Epoch 00009: val_acc did not improve from 0.98140\n",
            "Epoch 10/10\n",
            "60000/60000 [==============================] - 2s 26us/step - loss: 0.0201 - acc: 0.9934 - val_loss: 0.0925 - val_acc: 0.9799\n",
            "\n",
            "Epoch 00010: val_acc did not improve from 0.98140\n"
          ],
          "name": "stdout"
        },
        {
          "output_type": "execute_result",
          "data": {
            "text/plain": [
              "<keras.callbacks.History at 0x7fb7a214a4e0>"
            ]
          },
          "metadata": {
            "tags": []
          },
          "execution_count": 1
        }
      ]
    },
    {
      "cell_type": "markdown",
      "metadata": {
        "id": "Jveut6hlv4vM",
        "colab_type": "text"
      },
      "source": [
        "#Create checkpoint for storing best model only\n",
        "\n",
        "A simpler check-point strategy is to save the model weights to the same file, if and only if the validation accuracy improves.\n",
        "\n",
        "This can be done easily using the same code from above and changing the output filename to be fixed (not include score or epoch information).\n",
        "\n",
        "In this case, model weights are written to the file “weights.best.hdf5” only if the classification accuracy of the model on the validation dataset improves over the best seen so far."
      ]
    },
    {
      "cell_type": "code",
      "metadata": {
        "id": "4SoNDAjwwAX5",
        "colab_type": "code",
        "colab": {
          "base_uri": "https://localhost:8080/",
          "height": 764
        },
        "outputId": "4f9b240a-4b04-4a35-cdfa-0aeb270b562d"
      },
      "source": [
        "import keras\n",
        "from keras import models\n",
        "from keras.layers import Dense, Dropout\n",
        "from keras.utils import to_categorical\n",
        "from keras.datasets import mnist\n",
        "from keras.utils.vis_utils import model_to_dot\n",
        "from IPython.display import SVG\n",
        "from keras.callbacks import ModelCheckpoint\n",
        "\n",
        "NUM_ROWS = 28\n",
        "NUM_COLS = 28\n",
        "NUM_CLASSES = 10\n",
        "BATCH_SIZE = 128\n",
        "EPOCHS = 10\n",
        "\n",
        "# Load data\n",
        "(X_train, y_train), (X_test, y_test) = mnist.load_data()\n",
        "\n",
        "# Reshape data\n",
        "X_train = X_train.reshape((X_train.shape[0], NUM_ROWS * NUM_COLS))\n",
        "X_train = X_train.astype('float32') / 255\n",
        "X_test = X_test.reshape((X_test.shape[0], NUM_ROWS * NUM_COLS))\n",
        "X_test = X_test.astype('float32') / 255\n",
        "\n",
        "# Categorically encode labels\n",
        "y_train = to_categorical(y_train, NUM_CLASSES)\n",
        "y_test = to_categorical(y_test, NUM_CLASSES)\n",
        "\n",
        "\n",
        "# Build neural network\n",
        "model = models.Sequential()\n",
        "model.add(Dense(512, activation='elu', input_shape=(NUM_ROWS * NUM_COLS,)))\n",
        "model.add(Dense(256, activation='elu'))\n",
        "model.add(Dense(10, activation='softmax'))\n",
        "\n",
        "# Compile model\n",
        "model.compile(optimizer='rmsprop',\n",
        "              loss='categorical_crossentropy',\n",
        "              metrics=['accuracy'])\n",
        "\n",
        "\n",
        "\n",
        "# checkpoint\n",
        "filepath=\"weights.best.hdf5\"\n",
        "checkpoint = ModelCheckpoint(filepath, monitor='val_acc', verbose=1, save_best_only=True, mode='max')\n",
        "callbacks_list = [checkpoint]\n",
        "\n",
        "\n",
        "# Train model\n",
        "model.fit(X_train, y_train,\n",
        "          batch_size=BATCH_SIZE,\n",
        "          epochs=EPOCHS,\n",
        "          verbose=1,\n",
        "          validation_data=(X_test, y_test), callbacks=callbacks_list)\n",
        "\n",
        "\n"
      ],
      "execution_count": 2,
      "outputs": [
        {
          "output_type": "stream",
          "text": [
            "Train on 60000 samples, validate on 10000 samples\n",
            "Epoch 1/10\n",
            "60000/60000 [==============================] - 2s 31us/step - loss: 0.2936 - acc: 0.9121 - val_loss: 0.1503 - val_acc: 0.9544\n",
            "\n",
            "Epoch 00001: val_acc improved from -inf to 0.95440, saving model to weights.best.hdf5\n",
            "Epoch 2/10\n",
            "60000/60000 [==============================] - 2s 28us/step - loss: 0.1246 - acc: 0.9616 - val_loss: 0.0998 - val_acc: 0.9681\n",
            "\n",
            "Epoch 00002: val_acc improved from 0.95440 to 0.96810, saving model to weights.best.hdf5\n",
            "Epoch 3/10\n",
            "60000/60000 [==============================] - 2s 29us/step - loss: 0.0834 - acc: 0.9736 - val_loss: 0.0870 - val_acc: 0.9730\n",
            "\n",
            "Epoch 00003: val_acc improved from 0.96810 to 0.97300, saving model to weights.best.hdf5\n",
            "Epoch 4/10\n",
            "60000/60000 [==============================] - 2s 26us/step - loss: 0.0641 - acc: 0.9799 - val_loss: 0.1055 - val_acc: 0.9695\n",
            "\n",
            "Epoch 00004: val_acc did not improve from 0.97300\n",
            "Epoch 5/10\n",
            "60000/60000 [==============================] - 2s 26us/step - loss: 0.0507 - acc: 0.9835 - val_loss: 0.0771 - val_acc: 0.9776\n",
            "\n",
            "Epoch 00005: val_acc improved from 0.97300 to 0.97760, saving model to weights.best.hdf5\n",
            "Epoch 6/10\n",
            "60000/60000 [==============================] - 2s 26us/step - loss: 0.0399 - acc: 0.9871 - val_loss: 0.0811 - val_acc: 0.9763\n",
            "\n",
            "Epoch 00006: val_acc did not improve from 0.97760\n",
            "Epoch 7/10\n",
            "60000/60000 [==============================] - 2s 26us/step - loss: 0.0338 - acc: 0.9892 - val_loss: 0.0796 - val_acc: 0.9766\n",
            "\n",
            "Epoch 00007: val_acc did not improve from 0.97760\n",
            "Epoch 8/10\n",
            "60000/60000 [==============================] - 2s 27us/step - loss: 0.0270 - acc: 0.9910 - val_loss: 0.0853 - val_acc: 0.9766\n",
            "\n",
            "Epoch 00008: val_acc did not improve from 0.97760\n",
            "Epoch 9/10\n",
            "60000/60000 [==============================] - 2s 26us/step - loss: 0.0234 - acc: 0.9923 - val_loss: 0.0842 - val_acc: 0.9801\n",
            "\n",
            "Epoch 00009: val_acc improved from 0.97760 to 0.98010, saving model to weights.best.hdf5\n",
            "Epoch 10/10\n",
            "60000/60000 [==============================] - 2s 27us/step - loss: 0.0207 - acc: 0.9932 - val_loss: 0.0999 - val_acc: 0.9780\n",
            "\n",
            "Epoch 00010: val_acc did not improve from 0.98010\n"
          ],
          "name": "stdout"
        },
        {
          "output_type": "execute_result",
          "data": {
            "text/plain": [
              "<keras.callbacks.History at 0x7fb7947c72e8>"
            ]
          },
          "metadata": {
            "tags": []
          },
          "execution_count": 2
        }
      ]
    },
    {
      "cell_type": "markdown",
      "metadata": {
        "id": "my7CaRnYwPsC",
        "colab_type": "text"
      },
      "source": [
        "#Loading a Check-Pointed Neural Network Model\n",
        "\n",
        "After the model is saved , we can use it to make predictions"
      ]
    },
    {
      "cell_type": "code",
      "metadata": {
        "id": "eyuYyP-XwhdP",
        "colab_type": "code",
        "colab": {
          "base_uri": "https://localhost:8080/",
          "height": 35
        },
        "outputId": "684265e1-e74d-4944-b438-ba841e02ce64"
      },
      "source": [
        "import numpy as np\n",
        "import keras\n",
        "from keras import models\n",
        "#Create new model\n",
        "model_new = models.Sequential()\n",
        "model_new.add(Dense(512, activation='elu', input_shape=(NUM_ROWS * NUM_COLS,)))\n",
        "model_new.add(Dense(256, activation='elu'))\n",
        "model_new.add(Dense(10, activation='softmax'))\n",
        "\n",
        "model_new.load_weights(\"weights.best.hdf5\")\n",
        "\n",
        "# Compile model\n",
        "model_new.compile(optimizer='rmsprop',\n",
        "              loss='categorical_crossentropy',\n",
        "              metrics=['accuracy'])\n",
        "\n",
        "X_total=np.concatenate((X_train,X_test))\n",
        "y_total=np.concatenate((y_train,y_test))\n",
        "\n",
        "scores = model_new.evaluate(X_total, y_total, verbose=0)\n",
        "print(\"%s: %.2f%%\" % (model_new.metrics_names[1], scores[1]*100))"
      ],
      "execution_count": 3,
      "outputs": [
        {
          "output_type": "stream",
          "text": [
            "acc: 99.33%\n"
          ],
          "name": "stdout"
        }
      ]
    },
    {
      "cell_type": "markdown",
      "metadata": {
        "id": "mMNmXQvYz-O_",
        "colab_type": "text"
      },
      "source": [
        "#Thank you for completing this notebook\n"
      ]
    },
    {
      "cell_type": "markdown",
      "metadata": {
        "id": "AKYSuqxxRpOb",
        "colab_type": "text"
      },
      "source": [
        "**CIFAR 10**"
      ]
    },
    {
      "cell_type": "code",
      "metadata": {
        "id": "fTCHlGwMPU5a",
        "colab_type": "code",
        "outputId": "9dacbe04-75f9-4105-db4a-33dc459659fa",
        "colab": {
          "base_uri": "https://localhost:8080/",
          "height": 799
        }
      },
      "source": [
        "from keras.datasets import cifar10\n",
        "from keras.models import Sequential\n",
        "from keras.layers import Dense, Dropout, Activation, Flatten\n",
        "from keras.utils import to_categorical\n",
        "\n",
        "#import dataset\n",
        "(X_train, Y_train), (X_test, Y_test) = cifar10.load_data()\n",
        "\n",
        "#change shape from image to vector\n",
        "X_train = X_train.reshape(50000, 32 * 32 * 3)\n",
        "X_test = X_test.reshape(10000, 32 * 32 * 3)\n",
        "\n",
        "#preprocess\n",
        "X_train = X_train.astype('float32')\n",
        "X_test = X_test.astype('float32')\n",
        "X_train /= 255.0\n",
        "X_test /= 255.0\n",
        "\n",
        "#change labels from numeric to one hot encoded\n",
        "Y_train = to_categorical(Y_train, 10)\n",
        "Y_test =  to_categorical(Y_test, 10)\n",
        "\n",
        "#Model building\n",
        "model = Sequential()\n",
        "model.add(Dense(1024, input_shape=(3072, )))\n",
        "model.add(Activation('relu'))\n",
        "model.add(Dense(512))\n",
        "model.add(Activation('relu'))\n",
        "model.add(Dense(512))\n",
        "model.add(Activation('relu'))\n",
        "model.add(Dense(10))\n",
        "model.add(Activation('softmax'))\n",
        "\n",
        "\n",
        "# Compile model using above optimizer\n",
        "model.compile(optimizer='rmsprop',\n",
        "              loss='categorical_crossentropy',\n",
        "              metrics=['accuracy'])\n",
        "\n",
        "filepath=\"weights.best.hdf5\"\n",
        "checkpoint = ModelCheckpoint(filepath, monitor='val_acc', verbose=1, save_best_only=True, mode='max')\n",
        "callbacks_list = [checkpoint]\n",
        "\n",
        "model.fit(X_train, Y_train,\n",
        "          batch_size=BATCH_SIZE,\n",
        "          epochs=EPOCHS,\n",
        "          verbose=1,\n",
        "          validation_data=(X_test, Y_test), callbacks=callbacks_list)\n",
        "\n",
        "\n"
      ],
      "execution_count": 4,
      "outputs": [
        {
          "output_type": "stream",
          "text": [
            "Downloading data from https://www.cs.toronto.edu/~kriz/cifar-10-python.tar.gz\n",
            "170500096/170498071 [==============================] - 4s 0us/step\n",
            "Train on 50000 samples, validate on 10000 samples\n",
            "Epoch 1/10\n",
            "50000/50000 [==============================] - 2s 47us/step - loss: 2.3051 - acc: 0.2539 - val_loss: 1.8180 - val_acc: 0.3505\n",
            "\n",
            "Epoch 00001: val_acc improved from -inf to 0.35050, saving model to weights.best.hdf5\n",
            "Epoch 2/10\n",
            "50000/50000 [==============================] - 2s 43us/step - loss: 1.8024 - acc: 0.3525 - val_loss: 1.7345 - val_acc: 0.3791\n",
            "\n",
            "Epoch 00002: val_acc improved from 0.35050 to 0.37910, saving model to weights.best.hdf5\n",
            "Epoch 3/10\n",
            "50000/50000 [==============================] - 2s 41us/step - loss: 1.7007 - acc: 0.3907 - val_loss: 1.6910 - val_acc: 0.3906\n",
            "\n",
            "Epoch 00003: val_acc improved from 0.37910 to 0.39060, saving model to weights.best.hdf5\n",
            "Epoch 4/10\n",
            "50000/50000 [==============================] - 2s 42us/step - loss: 1.6228 - acc: 0.4181 - val_loss: 1.6162 - val_acc: 0.4270\n",
            "\n",
            "Epoch 00004: val_acc improved from 0.39060 to 0.42700, saving model to weights.best.hdf5\n",
            "Epoch 5/10\n",
            "50000/50000 [==============================] - 2s 41us/step - loss: 1.5739 - acc: 0.4373 - val_loss: 1.5820 - val_acc: 0.4387\n",
            "\n",
            "Epoch 00005: val_acc improved from 0.42700 to 0.43870, saving model to weights.best.hdf5\n",
            "Epoch 6/10\n",
            "50000/50000 [==============================] - 2s 41us/step - loss: 1.5304 - acc: 0.4541 - val_loss: 1.5714 - val_acc: 0.4538\n",
            "\n",
            "Epoch 00006: val_acc improved from 0.43870 to 0.45380, saving model to weights.best.hdf5\n",
            "Epoch 7/10\n",
            "50000/50000 [==============================] - 2s 41us/step - loss: 1.4898 - acc: 0.4685 - val_loss: 1.7064 - val_acc: 0.4182\n",
            "\n",
            "Epoch 00007: val_acc did not improve from 0.45380\n",
            "Epoch 8/10\n",
            "50000/50000 [==============================] - 2s 39us/step - loss: 1.4642 - acc: 0.4788 - val_loss: 1.6443 - val_acc: 0.4223\n",
            "\n",
            "Epoch 00008: val_acc did not improve from 0.45380\n",
            "Epoch 9/10\n",
            "50000/50000 [==============================] - 2s 41us/step - loss: 1.4411 - acc: 0.4857 - val_loss: 1.5319 - val_acc: 0.4747\n",
            "\n",
            "Epoch 00009: val_acc improved from 0.45380 to 0.47470, saving model to weights.best.hdf5\n",
            "Epoch 10/10\n",
            "50000/50000 [==============================] - 2s 41us/step - loss: 1.4135 - acc: 0.4964 - val_loss: 1.6066 - val_acc: 0.4408\n",
            "\n",
            "Epoch 00010: val_acc did not improve from 0.47470\n"
          ],
          "name": "stdout"
        },
        {
          "output_type": "execute_result",
          "data": {
            "text/plain": [
              "<keras.callbacks.History at 0x7fb7941dabe0>"
            ]
          },
          "metadata": {
            "tags": []
          },
          "execution_count": 4
        }
      ]
    },
    {
      "cell_type": "markdown",
      "metadata": {
        "id": "6rjBcZ7iSg-1",
        "colab_type": "text"
      },
      "source": [
        "**CIFAR 100**"
      ]
    },
    {
      "cell_type": "code",
      "metadata": {
        "id": "5NMR-ZzkSBc7",
        "colab_type": "code",
        "outputId": "5ad77618-443c-4d6c-c64a-1e2e9d9959a1",
        "colab": {
          "base_uri": "https://localhost:8080/",
          "height": 799
        }
      },
      "source": [
        "from keras.datasets import cifar100\n",
        "from keras.models import Sequential\n",
        "from keras.layers import Dense, Dropout, Activation, Flatten\n",
        "from keras.utils import to_categorical\n",
        "\n",
        "#import dataset\n",
        "(X_train, Y_train), (X_test, Y_test) = cifar100.load_data()\n",
        "\n",
        "#change shape from image to vector\n",
        "X_train = X_train.reshape(50000, 32 * 32 * 3)\n",
        "X_test = X_test.reshape(10000, 32 * 32 * 3)\n",
        "\n",
        "#preprocess\n",
        "X_train = X_train.astype('float32')\n",
        "X_test = X_test.astype('float32')\n",
        "X_train /= 255.0\n",
        "X_test /= 255.0\n",
        "\n",
        "#change labels from numeric to one hot encoded\n",
        "Y_train = to_categorical(Y_train, 100)\n",
        "Y_test =  to_categorical(Y_test, 100)\n",
        "\n",
        "#Model building\n",
        "model = Sequential()\n",
        "model.add(Dense(1024, input_shape=(3072, )))\n",
        "model.add(Activation('relu'))\n",
        "model.add(Dense(512))\n",
        "model.add(Activation('relu'))\n",
        "model.add(Dense(512))\n",
        "model.add(Activation('relu'))\n",
        "model.add(Dense(100))\n",
        "model.add(Activation('softmax'))\n",
        "\n",
        "# Compile model using above optimizer\n",
        "model.compile(optimizer='rmsprop',\n",
        "              loss='categorical_crossentropy',\n",
        "              metrics=['accuracy'])\n",
        "\n",
        "filepath=\"weights.best.hdf5\"\n",
        "checkpoint = ModelCheckpoint(filepath, monitor='val_acc', verbose=1, save_best_only=True, mode='max')\n",
        "callbacks_list = [checkpoint]\n",
        "\n",
        "model.fit(X_train, Y_train,\n",
        "          batch_size=BATCH_SIZE,\n",
        "          epochs=EPOCHS,\n",
        "          verbose=1,\n",
        "          validation_data=(X_test, Y_test), callbacks=callbacks_list)\n"
      ],
      "execution_count": 5,
      "outputs": [
        {
          "output_type": "stream",
          "text": [
            "Downloading data from https://www.cs.toronto.edu/~kriz/cifar-100-python.tar.gz\n",
            "169009152/169001437 [==============================] - 4s 0us/step\n",
            "Train on 50000 samples, validate on 10000 samples\n",
            "Epoch 1/10\n",
            "50000/50000 [==============================] - 2s 47us/step - loss: 4.2767 - acc: 0.0593 - val_loss: 3.9783 - val_acc: 0.0904\n",
            "\n",
            "Epoch 00001: val_acc improved from -inf to 0.09040, saving model to weights.best.hdf5\n",
            "Epoch 2/10\n",
            "50000/50000 [==============================] - 2s 41us/step - loss: 3.7903 - acc: 0.1194 - val_loss: 3.8745 - val_acc: 0.1115\n",
            "\n",
            "Epoch 00002: val_acc improved from 0.09040 to 0.11150, saving model to weights.best.hdf5\n",
            "Epoch 3/10\n",
            "50000/50000 [==============================] - 2s 40us/step - loss: 3.5961 - acc: 0.1532 - val_loss: 3.6320 - val_acc: 0.1605\n",
            "\n",
            "Epoch 00003: val_acc improved from 0.11150 to 0.16050, saving model to weights.best.hdf5\n",
            "Epoch 4/10\n",
            "50000/50000 [==============================] - 2s 41us/step - loss: 3.4604 - acc: 0.1781 - val_loss: 3.4239 - val_acc: 0.1864\n",
            "\n",
            "Epoch 00004: val_acc improved from 0.16050 to 0.18640, saving model to weights.best.hdf5\n",
            "Epoch 5/10\n",
            "50000/50000 [==============================] - 2s 42us/step - loss: 3.3515 - acc: 0.1974 - val_loss: 3.4506 - val_acc: 0.1837\n",
            "\n",
            "Epoch 00005: val_acc did not improve from 0.18640\n",
            "Epoch 6/10\n",
            "50000/50000 [==============================] - 2s 40us/step - loss: 3.2662 - acc: 0.2110 - val_loss: 3.4251 - val_acc: 0.1958\n",
            "\n",
            "Epoch 00006: val_acc improved from 0.18640 to 0.19580, saving model to weights.best.hdf5\n",
            "Epoch 7/10\n",
            "50000/50000 [==============================] - 2s 40us/step - loss: 3.1853 - acc: 0.2249 - val_loss: 3.4489 - val_acc: 0.1958\n",
            "\n",
            "Epoch 00007: val_acc did not improve from 0.19580\n",
            "Epoch 8/10\n",
            "50000/50000 [==============================] - 2s 40us/step - loss: 3.1197 - acc: 0.2367 - val_loss: 3.4526 - val_acc: 0.1984\n",
            "\n",
            "Epoch 00008: val_acc improved from 0.19580 to 0.19840, saving model to weights.best.hdf5\n",
            "Epoch 9/10\n",
            "50000/50000 [==============================] - 2s 40us/step - loss: 3.0615 - acc: 0.2510 - val_loss: 3.4695 - val_acc: 0.2026\n",
            "\n",
            "Epoch 00009: val_acc improved from 0.19840 to 0.20260, saving model to weights.best.hdf5\n",
            "Epoch 10/10\n",
            "50000/50000 [==============================] - 2s 40us/step - loss: 3.0116 - acc: 0.2596 - val_loss: 3.3934 - val_acc: 0.2200\n",
            "\n",
            "Epoch 00010: val_acc improved from 0.20260 to 0.22000, saving model to weights.best.hdf5\n"
          ],
          "name": "stdout"
        },
        {
          "output_type": "execute_result",
          "data": {
            "text/plain": [
              "<keras.callbacks.History at 0x7fb7940c8400>"
            ]
          },
          "metadata": {
            "tags": []
          },
          "execution_count": 5
        }
      ]
    },
    {
      "cell_type": "markdown",
      "metadata": {
        "id": "K8Zju_TZSk_G",
        "colab_type": "text"
      },
      "source": [
        "**FASHION_MNIST**"
      ]
    },
    {
      "cell_type": "code",
      "metadata": {
        "id": "Q9eBOG8PSnwb",
        "colab_type": "code",
        "outputId": "97a32697-fff0-47b7-9d74-1840e922e802",
        "colab": {
          "base_uri": "https://localhost:8080/",
          "height": 906
        }
      },
      "source": [
        "import keras\n",
        "from keras import models\n",
        "from keras.layers import Dense, Dropout\n",
        "from keras.utils import to_categorical\n",
        "from keras.datasets import fashion_mnist\n",
        "from keras.utils.vis_utils import model_to_dot\n",
        "from IPython.display import SVG\n",
        "\n",
        "NUM_ROWS = 28\n",
        "NUM_COLS = 28\n",
        "NUM_CLASSES = 10\n",
        "BATCH_SIZE = 128\n",
        "EPOCHS = 10\n",
        "\n",
        "# Load data\n",
        "(X_train, Y_train), (X_test, Y_test) = fashion_mnist.load_data()\n",
        "\n",
        "\n",
        "\n",
        "# Reshape data\n",
        "X_train = X_train.reshape((X_train.shape[0], NUM_ROWS * NUM_COLS))\n",
        "X_train = X_train.astype('float32') / 255\n",
        "X_test = X_test.reshape((X_test.shape[0], NUM_ROWS * NUM_COLS))\n",
        "X_test = X_test.astype('float32') / 255\n",
        "\n",
        "# Categorically encode labels\n",
        "Y_train = to_categorical(Y_train, NUM_CLASSES)\n",
        "Y_test = to_categorical(Y_test, NUM_CLASSES)\n",
        "\n",
        "\n",
        "# Build neural network\n",
        "model = models.Sequential()\n",
        "model.add(Dense(512, activation='relu', input_shape=(NUM_ROWS * NUM_COLS,)))\n",
        "model.add(Dense(256, activation='relu'))\n",
        "model.add(Dense(10, activation='softmax'))\n",
        "\n",
        "# Compile model using above optimizer\n",
        "model.compile(optimizer='rmsprop',\n",
        "              loss='categorical_crossentropy',\n",
        "              metrics=['accuracy'])\n",
        "\n",
        "filepath=\"weights.best.hdf5\"\n",
        "checkpoint = ModelCheckpoint(filepath, monitor='val_acc', verbose=1, save_best_only=True, mode='max')\n",
        "callbacks_list = [checkpoint]\n",
        "\n",
        "model.fit(X_train, Y_train,\n",
        "          batch_size=BATCH_SIZE,\n",
        "          epochs=EPOCHS,\n",
        "          verbose=1,\n",
        "          validation_data=(X_test, Y_test), callbacks=callbacks_list)"
      ],
      "execution_count": 6,
      "outputs": [
        {
          "output_type": "stream",
          "text": [
            "Downloading data from http://fashion-mnist.s3-website.eu-central-1.amazonaws.com/train-labels-idx1-ubyte.gz\n",
            "32768/29515 [=================================] - 0s 4us/step\n",
            "Downloading data from http://fashion-mnist.s3-website.eu-central-1.amazonaws.com/train-images-idx3-ubyte.gz\n",
            "26427392/26421880 [==============================] - 2s 0us/step\n",
            "Downloading data from http://fashion-mnist.s3-website.eu-central-1.amazonaws.com/t10k-labels-idx1-ubyte.gz\n",
            "8192/5148 [===============================================] - 0s 0us/step\n",
            "Downloading data from http://fashion-mnist.s3-website.eu-central-1.amazonaws.com/t10k-images-idx3-ubyte.gz\n",
            "4423680/4422102 [==============================] - 1s 0us/step\n",
            "Train on 60000 samples, validate on 10000 samples\n",
            "Epoch 1/10\n",
            "60000/60000 [==============================] - 2s 30us/step - loss: 0.5393 - acc: 0.8023 - val_loss: 0.4456 - val_acc: 0.8333\n",
            "\n",
            "Epoch 00001: val_acc improved from -inf to 0.83330, saving model to weights.best.hdf5\n",
            "Epoch 2/10\n",
            "60000/60000 [==============================] - 2s 25us/step - loss: 0.3766 - acc: 0.8593 - val_loss: 0.3975 - val_acc: 0.8539\n",
            "\n",
            "Epoch 00002: val_acc improved from 0.83330 to 0.85390, saving model to weights.best.hdf5\n",
            "Epoch 3/10\n",
            "60000/60000 [==============================] - 2s 26us/step - loss: 0.3342 - acc: 0.8771 - val_loss: 0.3711 - val_acc: 0.8684\n",
            "\n",
            "Epoch 00003: val_acc improved from 0.85390 to 0.86840, saving model to weights.best.hdf5\n",
            "Epoch 4/10\n",
            "60000/60000 [==============================] - 2s 25us/step - loss: 0.3110 - acc: 0.8854 - val_loss: 0.4532 - val_acc: 0.8442\n",
            "\n",
            "Epoch 00004: val_acc did not improve from 0.86840\n",
            "Epoch 5/10\n",
            "60000/60000 [==============================] - 2s 25us/step - loss: 0.2924 - acc: 0.8908 - val_loss: 0.3491 - val_acc: 0.8737\n",
            "\n",
            "Epoch 00005: val_acc improved from 0.86840 to 0.87370, saving model to weights.best.hdf5\n",
            "Epoch 6/10\n",
            "60000/60000 [==============================] - 1s 25us/step - loss: 0.2791 - acc: 0.8959 - val_loss: 0.3549 - val_acc: 0.8804\n",
            "\n",
            "Epoch 00006: val_acc improved from 0.87370 to 0.88040, saving model to weights.best.hdf5\n",
            "Epoch 7/10\n",
            "60000/60000 [==============================] - 2s 26us/step - loss: 0.2685 - acc: 0.9008 - val_loss: 0.3620 - val_acc: 0.8760\n",
            "\n",
            "Epoch 00007: val_acc did not improve from 0.88040\n",
            "Epoch 8/10\n",
            "60000/60000 [==============================] - 2s 25us/step - loss: 0.2583 - acc: 0.9038 - val_loss: 0.3840 - val_acc: 0.8769\n",
            "\n",
            "Epoch 00008: val_acc did not improve from 0.88040\n",
            "Epoch 9/10\n",
            "60000/60000 [==============================] - 2s 25us/step - loss: 0.2485 - acc: 0.9077 - val_loss: 0.3605 - val_acc: 0.8862\n",
            "\n",
            "Epoch 00009: val_acc improved from 0.88040 to 0.88620, saving model to weights.best.hdf5\n",
            "Epoch 10/10\n",
            "60000/60000 [==============================] - 2s 25us/step - loss: 0.2418 - acc: 0.9100 - val_loss: 0.3598 - val_acc: 0.8856\n",
            "\n",
            "Epoch 00010: val_acc did not improve from 0.88620\n"
          ],
          "name": "stdout"
        },
        {
          "output_type": "execute_result",
          "data": {
            "text/plain": [
              "<keras.callbacks.History at 0x7fb790110d30>"
            ]
          },
          "metadata": {
            "tags": []
          },
          "execution_count": 6
        }
      ]
    }
  ]
}